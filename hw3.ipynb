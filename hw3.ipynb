{
 "cells": [
  {
   "cell_type": "markdown",
   "metadata": {},
   "source": [
    "Joshua Hosea  \n",
    "STAT 462\n",
    "# Homework 1\n",
    "## Programming Problems"
   ]
  },
  {
   "cell_type": "markdown",
   "metadata": {},
   "source": [
    "## Problem 1"
   ]
  },
  {
   "cell_type": "code",
   "execution_count": 5,
   "metadata": {},
   "outputs": [],
   "source": [
    "from scipy.stats import rv_discrete\n",
    "from matplotlib import pyplot as plt\n",
    "import numpy as np"
   ]
  },
  {
   "cell_type": "code",
   "execution_count": 14,
   "metadata": {},
   "outputs": [],
   "source": [
    "values0 = [0,1]\n",
    "probs0 = [0.2824,0.7176]\n",
    "tier0 = rv_discrete(name='tier0', values=(values0, probs0))\n",
    "values1 = [0,1,2]\n",
    "probs1 = [0.0688,0.2026,0.7286]\n",
    "tier1 = rv_discrete(name='tier1', values=(values1, probs1))\n",
    "values2 = [1,2]\n",
    "probs2 = [0.0138,0.9862]\n",
    "tier2 = rv_discrete(name='tier2', values=(values2, probs2))"
   ]
  },
  {
   "cell_type": "code",
   "execution_count": 74,
   "metadata": {},
   "outputs": [],
   "source": [
    "tracking = np.zeros(1000)\n",
    "\n",
    "for i in range(1,1000):\n",
    "    \n",
    "    if tracking[i-1] == 0:\n",
    "        tracking[i] = tier0.rvs()\n",
    "        \n",
    "    elif tracking[i-1] == 1:\n",
    "        tracking[i] = tier1.rvs()\n",
    "        \n",
    "    else:\n",
    "        tracking[i] = tier2.rvs()"
   ]
  },
  {
   "cell_type": "code",
   "execution_count": 82,
   "metadata": {
    "scrolled": true
   },
   "outputs": [
    {
     "name": "stdout",
     "output_type": "stream",
     "text": [
      "Proportion of Steps in Tier 0: 0.005\n",
      "Proportion of Steps in Tier 1: 0.028\n",
      "Proportion of Steps in Tier 2: 0.967\n"
     ]
    }
   ],
   "source": [
    "print(f\"Proportion of Steps in Tier 0: {(tracking == 0).mean()}\\n\\\n",
    "Proportion of Steps in Tier 1: {(tracking == 1).mean()}\\n\\\n",
    "Proportion of Steps in Tier 2: {(tracking == 2).mean()}\")"
   ]
  },
  {
   "cell_type": "code",
   "execution_count": 93,
   "metadata": {},
   "outputs": [],
   "source": [
    "values0 = [0,1,2,3]\n",
    "probs0 = [0.2,0.4,0,0.4]\n",
    "tier0 = rv_discrete(name='tier0', values=(values0, probs0))\n",
    "values1 = [0,1,2,3]\n",
    "probs1 = [0.3,0,0.7,0]\n",
    "tier1 = rv_discrete(name='tier1', values=(values1, probs1))\n",
    "values2 = [0,1,2,3]\n",
    "probs2 = [0.5,0,0.5,0]\n",
    "tier2 = rv_discrete(name='tier2', values=(values2, probs2))\n",
    "values3 = [0,1,2,3]\n",
    "probs3 = [0,0.1,0.9,0]\n",
    "tier3 = rv_discrete(name='tier3', values=(values3, probs3))\n",
    "\n",
    "p_values  = [0,1,2,3]\n",
    "p_probs = [0.2,0.3,0.3,0.2]\n",
    "p_dist = rv_discrete(name='p_dist', values=(p_values, p_probs))"
   ]
  },
  {
   "cell_type": "code",
   "execution_count": 106,
   "metadata": {},
   "outputs": [],
   "source": [
    "step1 = np.zeros(1000)\n",
    "step2 = np.zeros(1000)\n",
    "\n",
    "for i in range(0,1000):\n",
    "    \n",
    "    start = p_dist.rvs()  \n",
    "        \n",
    "    if start == 0:\n",
    "        step1[i] = tier0.rvs()\n",
    "        \n",
    "    elif start == 1:\n",
    "        step1[i] = tier1.rvs()\n",
    "        \n",
    "    elif start == 2:\n",
    "        step1[i] = tier2.rvs()\n",
    "        \n",
    "    else:\n",
    "        step1[i] = tier3.rvs()\n",
    "        \n",
    "    \n",
    "    \n",
    "    if step1[i] == 0:\n",
    "        step2[i] = tier0.rvs()\n",
    "        \n",
    "    elif step1[i] == 1:\n",
    "        step2[i] = tier1.rvs()\n",
    "        \n",
    "    elif step1[i] == 2:\n",
    "        step2[i] = tier2.rvs()\n",
    "        \n",
    "    else:\n",
    "        step2[i] = tier3.rvs()"
   ]
  },
  {
   "cell_type": "code",
   "execution_count": 104,
   "metadata": {},
   "outputs": [
    {
     "name": "stdout",
     "output_type": "stream",
     "text": [
      "Probability Step 1 in Tier 0: 0.301\n",
      "Probability Step 1 in Tier 1: 0.09\n",
      "Probability Step 1 in Tier 2: 0.534\n",
      "Probability Step 1 in Tier 3: 0.075\n"
     ]
    }
   ],
   "source": [
    "print(f\"Probability Step 1 in Tier 0: {(step1 == 0).mean()}\\n\\\n",
    "Probability Step 1 in Tier 1: {(step1 == 1).mean()}\\n\\\n",
    "Probability Step 1 in Tier 2: {(step1 == 2).mean()}\\n\\\n",
    "Probability Step 1 in Tier 3: {(step1 == 3).mean()}\")"
   ]
  },
  {
   "cell_type": "code",
   "execution_count": 105,
   "metadata": {},
   "outputs": [
    {
     "name": "stdout",
     "output_type": "stream",
     "text": [
      "Probability Step 2 in Tier 0: 0.359\n",
      "Probability Step 2 in Tier 1: 0.117\n",
      "Probability Step 2 in Tier 2: 0.408\n",
      "Probability Step 2 in Tier 3: 0.116\n"
     ]
    }
   ],
   "source": [
    "print(f\"Probability Step 2 in Tier 0: {(step2 == 0).mean()}\\n\\\n",
    "Probability Step 2 in Tier 1: {(step2 == 1).mean()}\\n\\\n",
    "Probability Step 2 in Tier 2: {(step2 == 2).mean()}\\n\\\n",
    "Probability Step 2 in Tier 3: {(step2 == 3).mean()}\")"
   ]
  }
 ],
 "metadata": {
  "kernelspec": {
   "display_name": "Python 3",
   "language": "python",
   "name": "python3"
  },
  "language_info": {
   "codemirror_mode": {
    "name": "ipython",
    "version": 3
   },
   "file_extension": ".py",
   "mimetype": "text/x-python",
   "name": "python",
   "nbconvert_exporter": "python",
   "pygments_lexer": "ipython3",
   "version": "3.8.5"
  }
 },
 "nbformat": 4,
 "nbformat_minor": 4
}
