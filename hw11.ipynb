{
 "cells": [
  {
   "cell_type": "markdown",
   "metadata": {},
   "source": [
    "Joshua Hosea  \n",
    "STAT 462\n",
    "# Homework 11\n",
    "## Programming Problems"
   ]
  },
  {
   "cell_type": "code",
   "execution_count": 1,
   "metadata": {},
   "outputs": [],
   "source": [
    "from scipy.stats import rv_discrete, expon, norm, probplot, uniform\n",
    "from matplotlib import pyplot as plt\n",
    "import numpy as np"
   ]
  },
  {
   "cell_type": "markdown",
   "metadata": {},
   "source": [
    "## Problem 1"
   ]
  },
  {
   "cell_type": "code",
   "execution_count": 2,
   "metadata": {},
   "outputs": [
    {
     "name": "stdout",
     "output_type": "stream",
     "text": [
      "Mean: 37.769778364790504\n"
     ]
    }
   ],
   "source": [
    "sample_exp = expon(scale = 1/3)\n",
    "sample_uni = uniform(0,2.5)\n",
    "seq = np.zeros(1000)\n",
    "\n",
    "for x in range(0,1000):\n",
    "    t = 0\n",
    "    while t < 10:\n",
    "        t += sample_exp.rvs()\n",
    "        if t <= 10:\n",
    "            seq[x] += sample_uni.rvs()\n",
    "        \n",
    "print(f\"Mean: {seq.mean()}\")"
   ]
  },
  {
   "cell_type": "markdown",
   "metadata": {},
   "source": [
    "## Problem 2"
   ]
  },
  {
   "cell_type": "code",
   "execution_count": 3,
   "metadata": {},
   "outputs": [
    {
     "name": "stdout",
     "output_type": "stream",
     "text": [
      "Mean: 37.769778364790504\n",
      "Variance: 61.35395146797149\n"
     ]
    }
   ],
   "source": [
    "print(f\"Mean: {seq.mean()}\\nVariance: {seq.var()}\")"
   ]
  },
  {
   "cell_type": "markdown",
   "metadata": {},
   "source": [
    "## Problem 3"
   ]
  },
  {
   "cell_type": "code",
   "execution_count": 4,
   "metadata": {},
   "outputs": [
    {
     "name": "stdout",
     "output_type": "stream",
     "text": [
      "Probablility: 56.70889154208964\n"
     ]
    }
   ],
   "source": [
    "print(f\"Probablility: {np.quantile(seq,0.99)}\")"
   ]
  }
 ],
 "metadata": {
  "kernelspec": {
   "display_name": "Python 3",
   "language": "python",
   "name": "python3"
  },
  "language_info": {
   "codemirror_mode": {
    "name": "ipython",
    "version": 3
   },
   "file_extension": ".py",
   "mimetype": "text/x-python",
   "name": "python",
   "nbconvert_exporter": "python",
   "pygments_lexer": "ipython3",
   "version": "3.8.5"
  }
 },
 "nbformat": 4,
 "nbformat_minor": 4
}
