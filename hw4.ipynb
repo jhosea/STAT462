{
 "cells": [
  {
   "cell_type": "markdown",
   "metadata": {},
   "source": [
    "Joshua Hosea  \n",
    "STAT 462\n",
    "# Homework 4\n",
    "## Programming Problems"
   ]
  },
  {
   "cell_type": "markdown",
   "metadata": {},
   "source": [
    "## Problem 1"
   ]
  },
  {
   "cell_type": "code",
   "execution_count": 1,
   "metadata": {},
   "outputs": [],
   "source": [
    "from scipy.stats import rv_discrete\n",
    "from matplotlib import pyplot as plt\n",
    "import numpy as np"
   ]
  },
  {
   "cell_type": "code",
   "execution_count": 2,
   "metadata": {},
   "outputs": [],
   "source": [
    "initial_values = [0,1,2]\n",
    "initial_probs = [0.3,0.4,0.3]\n",
    "initial_dist = rv_discrete(name='initial_dist', values=(initial_values, initial_probs))\n",
    "values0 = [0,2]\n",
    "probs0 = [0.4,0.6]\n",
    "tier0 = rv_discrete(name='tier0', values=(values0, probs0))\n",
    "values1 = [1]\n",
    "probs1 = [1]\n",
    "tier1 = rv_discrete(name='tier1', values=(values1, probs1))\n",
    "values2 = [0,2]\n",
    "probs2 = [0.2,0.8]\n",
    "tier2 = rv_discrete(name='tier2', values=(values2, probs2))"
   ]
  },
  {
   "cell_type": "code",
   "execution_count": 3,
   "metadata": {},
   "outputs": [],
   "source": [
    "tracking = np.zeros(1000)\n",
    "\n",
    "tracking[0] = initial_dist.rvs()\n",
    "\n",
    "for i in range(1,1000):\n",
    "    \n",
    "    if tracking[i-1] == 0:\n",
    "        tracking[i] = tier0.rvs()\n",
    "        \n",
    "    elif tracking[i-1] == 1:\n",
    "        tracking[i] = tier1.rvs()\n",
    "        \n",
    "    else:\n",
    "        tracking[i] = tier2.rvs()"
   ]
  },
  {
   "cell_type": "code",
   "execution_count": 4,
   "metadata": {
    "scrolled": true
   },
   "outputs": [
    {
     "name": "stdout",
     "output_type": "stream",
     "text": [
      "Proportion of Steps in State 0: 0.242\n",
      "Proportion of Steps in State 1: 0.0\n",
      "Proportion of Steps in State 2: 0.758\n"
     ]
    }
   ],
   "source": [
    "print(f\"Proportion of Steps in State 0: {(tracking == 0).mean()}\\n\\\n",
    "Proportion of Steps in State 1: {(tracking == 1).mean()}\\n\\\n",
    "Proportion of Steps in State 2: {(tracking == 2).mean()}\")"
   ]
  }
 ],
 "metadata": {
  "kernelspec": {
   "display_name": "Python 3",
   "language": "python",
   "name": "python3"
  },
  "language_info": {
   "codemirror_mode": {
    "name": "ipython",
    "version": 3
   },
   "file_extension": ".py",
   "mimetype": "text/x-python",
   "name": "python",
   "nbconvert_exporter": "python",
   "pygments_lexer": "ipython3",
   "version": "3.8.5"
  }
 },
 "nbformat": 4,
 "nbformat_minor": 4
}
