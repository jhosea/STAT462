{
 "cells": [
  {
   "cell_type": "markdown",
   "metadata": {},
   "source": [
    "Joshua Hosea  \n",
    "STAT 462\n",
    "# Homework 10\n",
    "## Programming Problems"
   ]
  },
  {
   "cell_type": "code",
   "execution_count": 1,
   "metadata": {},
   "outputs": [],
   "source": [
    "from scipy.stats import rv_discrete, expon, norm, probplot\n",
    "from matplotlib import pyplot as plt\n",
    "import numpy as np"
   ]
  },
  {
   "cell_type": "markdown",
   "metadata": {},
   "source": [
    "## Problem 1"
   ]
  },
  {
   "cell_type": "code",
   "execution_count": 2,
   "metadata": {},
   "outputs": [
    {
     "name": "stdout",
     "output_type": "stream",
     "text": [
      "Mean: 16.104\n"
     ]
    }
   ],
   "source": [
    "sample_exp = expon(scale = 1/4)\n",
    "seq = np.zeros(1000)\n",
    "\n",
    "for x in range(0,1000):\n",
    "    t = 0\n",
    "    while t < 4:\n",
    "        t += sample_exp.rvs()\n",
    "        seq[x] += 1\n",
    "    if t > 4:\n",
    "        seq[x] -= 1\n",
    "        \n",
    "print(f\"Mean: {seq.mean()}\")"
   ]
  },
  {
   "cell_type": "markdown",
   "metadata": {},
   "source": [
    "## Problem 2"
   ]
  },
  {
   "cell_type": "code",
   "execution_count": 3,
   "metadata": {},
   "outputs": [
    {
     "name": "stdout",
     "output_type": "stream",
     "text": [
      "Third Moment: 731.801\n"
     ]
    }
   ],
   "source": [
    "seq2 = np.zeros(1000)\n",
    "\n",
    "for x in range(0,1000):\n",
    "    t = 0\n",
    "    while t < 2:\n",
    "        t += sample_exp.rvs()\n",
    "        seq2[x] += 1\n",
    "    if t > 2:\n",
    "        seq2[x] -= 1\n",
    "        \n",
    "print(f\"Third Moment: {np.power(seq2,3).mean()}\")"
   ]
  },
  {
   "cell_type": "markdown",
   "metadata": {},
   "source": [
    "## Problem 3"
   ]
  },
  {
   "cell_type": "code",
   "execution_count": 4,
   "metadata": {},
   "outputs": [
    {
     "name": "stdout",
     "output_type": "stream",
     "text": [
      "Probablility: 1.0\n"
     ]
    }
   ],
   "source": [
    "seq3 = np.zeros(1000)\n",
    "\n",
    "for x in range(0,1000):\n",
    "    t = sample_exp.rvs() + 1.5\n",
    "    if t <= 4:\n",
    "        seq3[x] = 1\n",
    "        \n",
    "print(f\"Probablility: {seq3.mean()}\")"
   ]
  }
 ],
 "metadata": {
  "kernelspec": {
   "display_name": "Python 3",
   "language": "python",
   "name": "python3"
  },
  "language_info": {
   "codemirror_mode": {
    "name": "ipython",
    "version": 3
   },
   "file_extension": ".py",
   "mimetype": "text/x-python",
   "name": "python",
   "nbconvert_exporter": "python",
   "pygments_lexer": "ipython3",
   "version": "3.8.5"
  }
 },
 "nbformat": 4,
 "nbformat_minor": 4
}
