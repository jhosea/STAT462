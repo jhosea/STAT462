{
 "cells": [
  {
   "cell_type": "markdown",
   "metadata": {},
   "source": [
    "Joshua Hosea  \n",
    "STAT 462\n",
    "# Homework 5\n",
    "## Programming Problems"
   ]
  },
  {
   "cell_type": "markdown",
   "metadata": {},
   "source": [
    "## Problem 1"
   ]
  },
  {
   "cell_type": "code",
   "execution_count": 1,
   "metadata": {},
   "outputs": [],
   "source": [
    "from scipy.stats import rv_discrete\n",
    "from matplotlib import pyplot as plt\n",
    "import numpy as np"
   ]
  },
  {
   "cell_type": "code",
   "execution_count": 2,
   "metadata": {},
   "outputs": [],
   "source": [
    "values = [1,2,3,4]\n",
    "probs1 = [0.3,0.4,0.2,0.1]\n",
    "tier1 = rv_discrete(name='tier1', values=(values, probs1))\n",
    "probs2 = [0.2,0.2,0.2,0.4]\n",
    "tier2 = rv_discrete(name='tier2', values=(values, probs2))\n",
    "probs3 = [0.1,0.5,0.3,0.1]\n",
    "tier3 = rv_discrete(name='tier3', values=(values, probs3))\n",
    "probs4 = [0.15,0.3,0.35,0.2]\n",
    "tier4 = rv_discrete(name='tier4', values=(values, probs4))"
   ]
  },
  {
   "cell_type": "code",
   "execution_count": 3,
   "metadata": {},
   "outputs": [],
   "source": [
    "tracking = np.zeros(10000)\n",
    "\n",
    "for i in range(0,10000):\n",
    "    \n",
    "    tracking[i] = 2\n",
    "    \n",
    "    while tracking[i] != 1 and tracking[i] != 4:\n",
    "        \n",
    "        if tracking[i] == 1:\n",
    "            tracking[i] = tier1.rvs()\n",
    "        \n",
    "        elif tracking[i] == 2:\n",
    "            tracking[i] = tier2.rvs()\n",
    "\n",
    "        elif tracking[i] == 3:\n",
    "            tracking[i] = tier3.rvs()\n",
    "\n",
    "        else:\n",
    "            tracking[i] = tier4.rvs()"
   ]
  },
  {
   "cell_type": "code",
   "execution_count": 4,
   "metadata": {
    "scrolled": true
   },
   "outputs": [
    {
     "name": "stdout",
     "output_type": "stream",
     "text": [
      "Proportion Times Hit State 1 First: 0.352\n",
      "Proportion Times Hit State 4 First: 0.648\n"
     ]
    }
   ],
   "source": [
    "print(f\"Proportion Times Hit State 1 First: {(tracking == 1).mean()}\\n\\\n",
    "Proportion Times Hit State 4 First: {(tracking == 4).mean()}\")"
   ]
  },
  {
   "cell_type": "markdown",
   "metadata": {},
   "source": [
    "## Problem 2\n",
    "\n",
    "Assuming we have an initial distribution of $x(0) = \\begin{bmatrix}0.3 & 0.4 & 0.3\\end{bmatrix}$"
   ]
  },
  {
   "cell_type": "code",
   "execution_count": 5,
   "metadata": {},
   "outputs": [],
   "source": [
    "values = [1,2,3]\n",
    "initial_probs = [0.3,0.4,0.3]\n",
    "initial_dist = rv_discrete(name='initial_dist', values=(values, initial_probs))\n",
    "probs1 = [0.8,0,0.2]\n",
    "tier1 = rv_discrete(name='tier1', values=(values, probs1))\n",
    "probs2 = [0.1,0.3,0.6]\n",
    "tier2 = rv_discrete(name='tier2', values=(values, probs2))\n",
    "probs3 = [0.4,0,0.6]\n",
    "tier3 = rv_discrete(name='tier3', values=(values, probs3))"
   ]
  },
  {
   "cell_type": "code",
   "execution_count": 6,
   "metadata": {},
   "outputs": [],
   "source": [
    "tracking = np.zeros(10000)\n",
    "\n",
    "tracking[0] = initial_dist.rvs()\n",
    "\n",
    "for i in range(1,10000):\n",
    "    \n",
    "    if tracking[i-1] == 1:\n",
    "        tracking[i] = tier1.rvs()\n",
    "        \n",
    "    elif tracking[i-1] == 2:\n",
    "        tracking[i] = tier2.rvs()\n",
    "        \n",
    "    else:\n",
    "        tracking[i] = tier3.rvs()"
   ]
  },
  {
   "cell_type": "code",
   "execution_count": 7,
   "metadata": {
    "scrolled": true
   },
   "outputs": [
    {
     "name": "stdout",
     "output_type": "stream",
     "text": [
      "Proportion of Steps in State 1: 0.6703\n",
      "Proportion of Steps in State 2: 0.0\n",
      "Proportion of Steps in State 3: 0.3297\n"
     ]
    }
   ],
   "source": [
    "print(f\"Proportion of Steps in State 1: {(tracking == 1).mean()}\\n\\\n",
    "Proportion of Steps in State 2: {(tracking == 2).mean()}\\n\\\n",
    "Proportion of Steps in State 3: {(tracking == 3).mean()}\")"
   ]
  }
 ],
 "metadata": {
  "kernelspec": {
   "display_name": "Python 3",
   "language": "python",
   "name": "python3"
  },
  "language_info": {
   "codemirror_mode": {
    "name": "ipython",
    "version": 3
   },
   "file_extension": ".py",
   "mimetype": "text/x-python",
   "name": "python",
   "nbconvert_exporter": "python",
   "pygments_lexer": "ipython3",
   "version": "3.8.5"
  }
 },
 "nbformat": 4,
 "nbformat_minor": 4
}
