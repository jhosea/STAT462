{
 "cells": [
  {
   "cell_type": "markdown",
   "metadata": {},
   "source": [
    "Joshua Hosea  \n",
    "STAT 462\n",
    "# Homework 1\n",
    "\n",
    "### Problem 1  \n",
    "$P(A) + P(B) - 2P(A \\cap B)\\\\\n",
    "0.5 + 0.4 - 2(0.3) = 0.3$\n",
    "\n",
    "### Problem 2  \n",
    "$P(A \\cap B)$ can take values from $0$ to $0.7$\n",
    "\n",
    "### Problem 3  \n",
    "**CDF** = $\\int_{0}^{y} 3c^2 dc = y^3, 0≤y≤1$\n",
    "\n",
    "$E(Y) = \\int_{0}^{1}\\!y3y^2 dy = \\frac{3}{4}$\n",
    "\n",
    "$E(Y^2)= \\int_{0}^{1}\\!y^23y^2 dy = \\frac{3}{5}\\\\\n",
    "Var(Y) = E(Y^2) - E(Y)^2\\\\\n",
    "= \\frac{3}{5} - (\\frac{3}{4})^2 = \\frac{3}{80}$\n",
    "\n",
    "$P(Y ≤ 0.4) = 0.4^3 = 0.064$\n",
    "\n",
    "### Problem 4\n",
    "$R$ - Return of portfolio  \n",
    "$A$ - Asset 1  \n",
    "$B$ - Asset 2  \n",
    "$C$ - Asset 3  \n",
    "\n",
    "$E(R) = E(\\frac{1}{3}A + \\frac{1}{3}B + \\frac{1}{3}C) = \\frac{1}{3}E(A) + \\frac{1}{3}E(B) + \\frac{1}{3}E(C)\\\\\n",
    "= \\frac{1}{3}(1.56) + \\frac{1}{3}(0.4) + \\frac{1}{3}(0) = 0.653$"
   ]
  },
  {
   "cell_type": "markdown",
   "metadata": {},
   "source": []
  }
 ],
 "metadata": {
  "kernelspec": {
   "display_name": "Python 3",
   "language": "python",
   "name": "python3"
  },
  "language_info": {
   "codemirror_mode": {
    "name": "ipython",
    "version": 3
   },
   "file_extension": ".py",
   "mimetype": "text/x-python",
   "name": "python",
   "nbconvert_exporter": "python",
   "pygments_lexer": "ipython3",
   "version": "3.8.5"
  }
 },
 "nbformat": 4,
 "nbformat_minor": 4
}
