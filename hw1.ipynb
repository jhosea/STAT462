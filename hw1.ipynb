{
 "cells": [
  {
   "cell_type": "markdown",
   "metadata": {},
   "source": [
    "Joshua Hosea  \n",
    "STAT 462\n",
    "# Homework 1\n",
    "## Theoretical Problems\n",
    "### Problem 1  \n",
    "$P(A) + P(B) - 2P(A \\cap B)\\\\\n",
    "0.5 + 0.4 - 2(0.3) = \\mathbf{0.3}$\n",
    "\n",
    "### Problem 2  \n",
    "$P(A) + P(B) - P(A \\cap B) = 1\\\\\n",
    "0.7 + 0.9 - P(A \\cap B) = 1\\\\\n",
    "P(A \\cap B) = \\mathbf{0.6}$  \n",
    "**If $\\mathbf{P(A \\cup B) ≤ 1}$ then $\\mathbf{0.6 ≤ P(A \\cap B) ≤ 0.7}$**\n",
    "\n",
    "### Problem 3  \n",
    "- **CDF** = $\\int_{0}^{y} 3c^2 dc = \\mathbf{y^3}, 0≤y≤1$\n",
    "\n",
    "- $E(Y) = \\int_{0}^{1}\\!y3y^2 dy = \\mathbf{\\frac{3}{4}}$\n",
    "\n",
    "- $E(Y^2)= \\int_{0}^{1}\\!y^23y^2 dy = \\frac{3}{5}\\\\\n",
    " Var(Y) = E(Y^2) - E(Y)^2\\\\\n",
    " = \\frac{3}{5} - (\\frac{3}{4})^2 = \\mathbf{\\frac{3}{80}}$\n",
    "\n",
    "- $P(Y ≤ 0.4) = 0.4^3 = \\mathbf{0.064}$\n",
    "\n",
    "### Problem 4\n",
    "- $R$ - Return of portfolio  \n",
    "- $A$ - Asset 1  \n",
    "- $B$ - Asset 2  \n",
    "- $C$ - Asset 3  \n",
    "\n",
    "- #### Mean Return  \n",
    "$E(R) = E(\\frac{1}{3}A + \\frac{1}{3}B + \\frac{1}{3}C) = \\frac{1}{3}E(A) + \\frac{1}{3}E(B) + \\frac{1}{3}E(C)\\\\\n",
    "= \\frac{1}{3}(1.56) + \\frac{1}{3}(0.4) + \\frac{1}{3}(0) = \\mathbf{0.653}$\n",
    "\n",
    "- #### Standard Deviation  \n",
    "$Cov(A,B) = Corr(A,B)std(A)std(B) = 0.3(2.8)(1.1) = 0.0974$  \n",
    "\n",
    "    $Var(\\frac{1}{3}A + \\frac{1}{3}B + \\frac{1}{3}C) = \\frac{Var(A+B+C)}{9}\\\\\n",
    "    \\frac{1}{9}(Var(A) + Var(B) + Var(C) + 2Cov(A,B) + 2Cov(A,C) + 2Cov(B,C))\\\\\n",
    "    \\frac{1}{9}(2.8^{2} + 1.1^{2} + 0.5^{2} + 2(0.924))= 1.2386\\\\\n",
    "    St. Dev = \\sqrt{1.2386} = \\mathbf{1.1129}$"
   ]
  },
  {
   "cell_type": "markdown",
   "metadata": {},
   "source": [
    "## Programming Problems"
   ]
  },
  {
   "cell_type": "code",
   "execution_count": 1,
   "metadata": {},
   "outputs": [],
   "source": [
    "from scipy.stats import rv_continuous, expon\n",
    "from matplotlib import pyplot as plt\n",
    "import numpy as np"
   ]
  },
  {
   "cell_type": "markdown",
   "metadata": {},
   "source": [
    "### Problem 1"
   ]
  },
  {
   "cell_type": "code",
   "execution_count": 2,
   "metadata": {},
   "outputs": [
    {
     "data": {
      "text/plain": [
       "<function matplotlib.pyplot.show(close=None, block=None)>"
      ]
     },
     "execution_count": 2,
     "metadata": {},
     "output_type": "execute_result"
    },
    {
     "data": {
      "image/png": "[encoded data removed]",
      "text/plain": [
       "<Figure size 432x288 with 1 Axes>"
      ]
     },
     "metadata": {
      "needs_background": "light"
     },
     "output_type": "display_data"
    }
   ],
   "source": [
    "sample1 = np.array(expon(scale = 1/3).rvs(size = 1000))\n",
    "plt.hist(sample1)\n",
    "plt.title(\"Exponential Distribution\\n lambda = 3\")\n",
    "plt.show"
   ]
  },
  {
   "cell_type": "code",
   "execution_count": 3,
   "metadata": {},
   "outputs": [
    {
     "name": "stdout",
     "output_type": "stream",
     "text": [
      "Mean: 0.3282\n",
      "St. Dev: 0.3060\n"
     ]
    }
   ],
   "source": [
    "mean1 = sample1.mean()\n",
    "std1 = sample1.std()\n",
    "p = sum(sample1 < 0.4) / len(sample1)\n",
    "\n",
    "print(f\"Mean: {mean1:0.4f}\\n\\\n",
    "St. Dev: {std1:0.4f}\")"
   ]
  },
  {
   "cell_type": "markdown",
   "metadata": {},
   "source": [
    "## Problem 2"
   ]
  },
  {
   "cell_type": "code",
   "execution_count": 4,
   "metadata": {},
   "outputs": [],
   "source": [
    "class Prob3_dist(rv_continuous):\n",
    "    def _pdf(self, x):\n",
    "        return 3*(x**2)\n",
    "\n",
    "mydist = Prob3_dist(momtype = 0, a = 0, b = 1, name='mydist')"
   ]
  },
  {
   "cell_type": "code",
   "execution_count": 5,
   "metadata": {},
   "outputs": [
    {
     "name": "stdout",
     "output_type": "stream",
     "text": [
      "Mean: 0.7487\n",
      "Variance: 0.0371\n",
      "P(Y≤0.4) = 0.698\n"
     ]
    }
   ],
   "source": [
    "sample2 = np.array(mydist.rvs(size = 1000))\n",
    "mean2 = sample2.mean()\n",
    "var2 = sample2.var()\n",
    "p = sum(sample1 < 0.4) / len(sample1)\n",
    "\n",
    "print(f\"Mean: {mean2:0.4f}\\n\\\n",
    "Variance: {var2:0.4f}\\n\\\n",
    "P(Y≤0.4) = {p}\")"
   ]
  }
 ],
 "metadata": {
  "kernelspec": {
   "display_name": "Python 3",
   "language": "python",
   "name": "python3"
  },
  "language_info": {
   "codemirror_mode": {
    "name": "ipython",
    "version": 3
   },
   "file_extension": ".py",
   "mimetype": "text/x-python",
   "name": "python",
   "nbconvert_exporter": "python",
   "pygments_lexer": "ipython3",
   "version": "3.8.5"
  }
 },
 "nbformat": 4,
 "nbformat_minor": 4
}
