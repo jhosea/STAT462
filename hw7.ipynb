{
 "cells": [
  {
   "cell_type": "markdown",
   "metadata": {},
   "source": [
    "Joshua Hosea  \n",
    "STAT 462\n",
    "# Homework 7\n",
    "## Programming Problems"
   ]
  },
  {
   "cell_type": "markdown",
   "metadata": {},
   "source": [
    "## Problem 1"
   ]
  },
  {
   "cell_type": "code",
   "execution_count": 1,
   "metadata": {},
   "outputs": [],
   "source": [
    "from scipy.stats import rv_discrete, expon\n",
    "from matplotlib import pyplot as plt\n",
    "import numpy as np"
   ]
  },
  {
   "cell_type": "code",
   "execution_count": 2,
   "metadata": {},
   "outputs": [],
   "source": [
    "#Exponential dist for sampling time spent at state\n",
    "time_state_1 = expon(scale = 1/2)\n",
    "time_state_2 = expon(scale = 1)"
   ]
  },
  {
   "cell_type": "code",
   "execution_count": 3,
   "metadata": {},
   "outputs": [],
   "source": [
    "time = np.zeros(3)\n",
    "tracking = 1\n",
    "while time[0] < 100:\n",
    "        \n",
    "    if tracking == 1:\n",
    "        t = time_state_1.rvs()\n",
    "        time[0] += t\n",
    "        time[1] += t\n",
    "        tracking = 2\n",
    "        \n",
    "    else:\n",
    "        t = time_state_2.rvs()\n",
    "        time[0] += t\n",
    "        time[2] += t\n",
    "        tracking = 1"
   ]
  },
  {
   "cell_type": "code",
   "execution_count": 4,
   "metadata": {
    "scrolled": true
   },
   "outputs": [
    {
     "name": "stdout",
     "output_type": "stream",
     "text": [
      "Proportion Times Spent in State 1: 0.340327661711203\n",
      "Proportion Times Spent in State 2: 0.6596723382887968\n"
     ]
    }
   ],
   "source": [
    "print(f\"Proportion Times Spent in State 1: {(time[1]/time[0])}\\n\\\n",
    "Proportion Times Spent in State 2: {(time[2]/time[0])}\")"
   ]
  },
  {
   "cell_type": "markdown",
   "metadata": {},
   "source": [
    "We can see that the proportion of time spent in state 1 is approximately 1/3 and the proportion of time spent in state 2 is approximately 2/3, which is the stationary distribution calculated in problem 2."
   ]
  }
 ],
 "metadata": {
  "kernelspec": {
   "display_name": "Python 3",
   "language": "python",
   "name": "python3"
  },
  "language_info": {
   "codemirror_mode": {
    "name": "ipython",
    "version": 3
   },
   "file_extension": ".py",
   "mimetype": "text/x-python",
   "name": "python",
   "nbconvert_exporter": "python",
   "pygments_lexer": "ipython3",
   "version": "3.8.5"
  }
 },
 "nbformat": 4,
 "nbformat_minor": 4
}
