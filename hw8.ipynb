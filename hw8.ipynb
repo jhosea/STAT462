{
 "cells": [
  {
   "cell_type": "markdown",
   "metadata": {},
   "source": [
    "Joshua Hosea  \n",
    "STAT 462\n",
    "# Homework 8\n",
    "## Programming Problems"
   ]
  },
  {
   "cell_type": "code",
   "execution_count": 2,
   "metadata": {},
   "outputs": [],
   "source": [
    "from scipy.stats import rv_discrete, expon\n",
    "from matplotlib import pyplot as plt\n",
    "import numpy as np"
   ]
  },
  {
   "cell_type": "markdown",
   "metadata": {},
   "source": [
    "## Problem 1"
   ]
  },
  {
   "cell_type": "code",
   "execution_count": 67,
   "metadata": {},
   "outputs": [
    {
     "name": "stdout",
     "output_type": "stream",
     "text": [
      "Mean: 1.0224561624686932\n",
      "Variance: 1.1018021566953689\n"
     ]
    }
   ],
   "source": [
    "expn = expon(scale = 1/3)\n",
    "M = np.zeros(1000)\n",
    "for q in range(1000):\n",
    "    x = [expn.rvs() for i in range(3)]\n",
    "    M[q] = np.exp(sum(x)-1.2)\n",
    "\n",
    "print(f\"Mean: {M.mean()}\\n\\\n",
    "Variance: {M.var()}\")"
   ]
  },
  {
   "cell_type": "markdown",
   "metadata": {},
   "source": [
    "## Problem 2"
   ]
  },
  {
   "cell_type": "code",
   "execution_count": 82,
   "metadata": {},
   "outputs": [
    {
     "name": "stdout",
     "output_type": "stream",
     "text": [
      "Mean: 0.141\n"
     ]
    }
   ],
   "source": [
    "dist = rv_discrete(values=([-1,1], [0.4,0.6]))\n",
    "results = np.zeros(1000)\n",
    "for q in range(1000):\n",
    "    step = 0\n",
    "    results[q] = -1\n",
    "    while (step < 12) & (results[q] < 7):\n",
    "        results[q] += dist.rvs()\n",
    "        step += 1\n",
    "                   \n",
    "    if results[q] == 5:\n",
    "        results[q] = 1\n",
    "    else:\n",
    "        results[q] = 0\n",
    "\n",
    "print(f\"Mean: {results.mean()}\")"
   ]
  },
  {
   "cell_type": "markdown",
   "metadata": {},
   "source": [
    "## Problem 3"
   ]
  },
  {
   "cell_type": "code",
   "execution_count": 94,
   "metadata": {},
   "outputs": [
    {
     "name": "stdout",
     "output_type": "stream",
     "text": [
      "Mean: 0.707\n"
     ]
    }
   ],
   "source": [
    "results2 = np.zeros(1000)\n",
    "for q in range(1000):\n",
    "    step = 0\n",
    "    results2[q] = 3\n",
    "    while (results2[q] < 10) & (results2[q] > 0):\n",
    "        results2[q] += dist.rvs()\n",
    "        step += 1\n",
    "                   \n",
    "    if results2[q] == 10:\n",
    "        results2[q] = 1\n",
    "    else:\n",
    "        results2[q] = 0\n",
    "\n",
    "print(f\"Mean: {results2.mean()}\")"
   ]
  }
 ],
 "metadata": {
  "kernelspec": {
   "display_name": "Python 3",
   "language": "python",
   "name": "python3"
  },
  "language_info": {
   "codemirror_mode": {
    "name": "ipython",
    "version": 3
   },
   "file_extension": ".py",
   "mimetype": "text/x-python",
   "name": "python",
   "nbconvert_exporter": "python",
   "pygments_lexer": "ipython3",
   "version": "3.8.5"
  }
 },
 "nbformat": 4,
 "nbformat_minor": 4
}
