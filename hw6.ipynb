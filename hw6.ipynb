{
 "cells": [
  {
   "cell_type": "markdown",
   "metadata": {},
   "source": [
    "Joshua Hosea  \n",
    "STAT 462\n",
    "# Homework 6\n",
    "## Programming Problems"
   ]
  },
  {
   "cell_type": "markdown",
   "metadata": {},
   "source": [
    "## Problem 1"
   ]
  },
  {
   "cell_type": "code",
   "execution_count": 1,
   "metadata": {},
   "outputs": [],
   "source": [
    "from scipy.stats import rv_discrete, expon\n",
    "from matplotlib import pyplot as plt\n",
    "import numpy as np"
   ]
  },
  {
   "cell_type": "code",
   "execution_count": 2,
   "metadata": {},
   "outputs": [],
   "source": [
    "#Exponential dist for sampling time spent at state\n",
    "time_state_1 = expon(scale = 1/3)\n",
    "time_state_2 = expon(scale = 1/2)\n",
    "time_state_3 = expon(scale = 1/4)\n",
    "\n",
    "#Random sampling for which state to transition to\n",
    "values = [1,2,3]\n",
    "probs1 = [0,1/3,2/3]\n",
    "tier1 = rv_discrete(name='tier1', values=(values, probs1))\n",
    "probs2 = [1/2,0,1/2]\n",
    "tier2 = rv_discrete(name='tier2', values=(values, probs2))\n",
    "probs3 = [0,1,0]\n",
    "tier3 = rv_discrete(name='tier3', values=(values, probs3))"
   ]
  },
  {
   "cell_type": "code",
   "execution_count": 3,
   "metadata": {},
   "outputs": [],
   "source": [
    "time = np.zeros(4)\n",
    "tracking = 1\n",
    "while time[0] < 1000:\n",
    "        \n",
    "    if tracking == 1:\n",
    "        t = time_state_1.rvs()\n",
    "        time[0] += t\n",
    "        time[1] += t\n",
    "        tracking = tier1.rvs()\n",
    "        \n",
    "    elif tracking == 2:\n",
    "        t = time_state_2.rvs()\n",
    "        time[0] += t\n",
    "        time[2] += t\n",
    "        tracking = tier2.rvs()\n",
    "\n",
    "    elif tracking == 3:\n",
    "        t = time_state_3.rvs()\n",
    "        time[0] += t\n",
    "        time[3] += t\n",
    "        tracking = tier3.rvs()"
   ]
  },
  {
   "cell_type": "code",
   "execution_count": 4,
   "metadata": {},
   "outputs": [
    {
     "name": "stdout",
     "output_type": "stream",
     "text": [
      "Proportion Times Spent in State 1: 0.18766147770496167\n",
      "Proportion Times Spent in State 2: 0.5813662483122786\n",
      "Proportion Times Spent in State 3: 0.23097227398275852\n"
     ]
    }
   ],
   "source": [
    "print(f\"Proportion Times Spent in State 1: {(time[1]/time[0])}\\n\\\n",
    "Proportion Times Spent in State 2: {(time[2]/time[0])}\\n\\\n",
    "Proportion Times Spent in State 3: {(time[3]/time[0])}\")"
   ]
  },
  {
   "cell_type": "markdown",
   "metadata": {},
   "source": [
    "## Problem 2"
   ]
  },
  {
   "cell_type": "code",
   "execution_count": 5,
   "metadata": {},
   "outputs": [],
   "source": [
    "tracking = np.zeros(1000)\n",
    "\n",
    "tracking[0] = 1\n",
    "\n",
    "for i in range(1,1000):\n",
    "    \n",
    "    if tracking[i-1] == 1:\n",
    "        tracking[i] = tier1.rvs()\n",
    "        \n",
    "    elif tracking[i-1] == 2:\n",
    "        tracking[i] = tier2.rvs()\n",
    "        \n",
    "    else:\n",
    "        tracking[i] = tier3.rvs()"
   ]
  },
  {
   "cell_type": "code",
   "execution_count": 6,
   "metadata": {
    "scrolled": true
   },
   "outputs": [
    {
     "name": "stdout",
     "output_type": "stream",
     "text": [
      "Proportion of Steps in State 1: 0.211\n",
      "Proportion of Steps in State 2: 0.429\n",
      "Proportion of Steps in State 3: 0.36\n"
     ]
    }
   ],
   "source": [
    "print(f\"Proportion of Steps in State 1: {(tracking == 1).mean()}\\n\\\n",
    "Proportion of Steps in State 2: {(tracking == 2).mean()}\\n\\\n",
    "Proportion of Steps in State 3: {(tracking == 3).mean()}\")"
   ]
  }
 ],
 "metadata": {
  "kernelspec": {
   "display_name": "Python 3",
   "language": "python",
   "name": "python3"
  },
  "language_info": {
   "codemirror_mode": {
    "name": "ipython",
    "version": 3
   },
   "file_extension": ".py",
   "mimetype": "text/x-python",
   "name": "python",
   "nbconvert_exporter": "python",
   "pygments_lexer": "ipython3",
   "version": "3.8.5"
  }
 },
 "nbformat": 4,
 "nbformat_minor": 4
}
