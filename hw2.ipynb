{
 "cells": [
  {
   "cell_type": "markdown",
   "metadata": {},
   "source": [
    "Joshua Hosea  \n",
    "STAT 462\n",
    "# Homework 1\n",
    "## Programming Problems\n",
    "### Problem 1"
   ]
  },
  {
   "cell_type": "code",
   "execution_count": 1,
   "metadata": {},
   "outputs": [],
   "source": [
    "from scipy.stats import gamma, rv_discrete\n",
    "from matplotlib import pyplot as plt\n",
    "import numpy as np\n"
   ]
  },
  {
   "cell_type": "code",
   "execution_count": 2,
   "metadata": {},
   "outputs": [],
   "source": [
    "np.random.seed(seed=233423)\n",
    "sample1 = gamma(a = 3, scale = 1/2).rvs(size = 1000)\n",
    "mean1 = sample1.mean()\n",
    "var1 = sample1.var()\n",
    "third_moment = np.power(sample1, 3).mean()"
   ]
  },
  {
   "cell_type": "code",
   "execution_count": 3,
   "metadata": {
    "scrolled": true
   },
   "outputs": [
    {
     "name": "stdout",
     "output_type": "stream",
     "text": [
      "Mean: 1.5255 \n",
      "Variance: 0.7768 \n",
      "Third Moment: 7.8837\n"
     ]
    }
   ],
   "source": [
    "print(f\"Mean: {mean1:0.4f} \\nVariance: {var1:0.4f} \\nThird Moment: {third_moment:0.4f}\")"
   ]
  },
  {
   "cell_type": "markdown",
   "metadata": {},
   "source": [
    "### Problem 2"
   ]
  },
  {
   "cell_type": "code",
   "execution_count": 4,
   "metadata": {},
   "outputs": [],
   "source": [
    "values = [0,1,2]\n",
    "probs = [0.2,0.5,0.3]\n",
    "custom_discrete = rv_discrete(name='custom', values=(values, probs))"
   ]
  },
  {
   "cell_type": "code",
   "execution_count": 5,
   "metadata": {},
   "outputs": [
    {
     "name": "stdout",
     "output_type": "stream",
     "text": [
      "Empirical Mean: 1.0500 \n",
      "Theoretical Mean: 1.1000\n"
     ]
    }
   ],
   "source": [
    "np.random.seed(seed=233423)\n",
    "sample2 = custom_discrete.rvs(size = 1000)\n",
    "mean2 = sample2.mean()\n",
    "var2 = sample2.var()\n",
    "print(f\"Empirical Mean: {mean2:0.4f} \\nTheoretical Mean: {custom_discrete.mean():0.4f}\")"
   ]
  }
 ],
 "metadata": {
  "kernelspec": {
   "display_name": "Python 3",
   "language": "python",
   "name": "python3"
  },
  "language_info": {
   "codemirror_mode": {
    "name": "ipython",
    "version": 3
   },
   "file_extension": ".py",
   "mimetype": "text/x-python",
   "name": "python",
   "nbconvert_exporter": "python",
   "pygments_lexer": "ipython3",
   "version": "3.8.5"
  }
 },
 "nbformat": 4,
 "nbformat_minor": 4
}
